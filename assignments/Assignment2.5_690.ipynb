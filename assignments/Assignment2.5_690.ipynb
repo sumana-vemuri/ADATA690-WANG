{
 "cells": [
  {
   "cell_type": "markdown",
   "metadata": {},
   "source": [
    "ASSIGNMENT 2.5"
   ]
  },
  {
   "cell_type": "markdown",
   "metadata": {},
   "source": [
    "QUESTION 1"
   ]
  },
  {
   "cell_type": "markdown",
   "metadata": {},
   "source": [
    "Create a program that asks the user to enter their name and their age. \n",
    "Print out a message addressed to them that tells them the year that they will turn 100 years old."
   ]
  },
  {
   "cell_type": "code",
   "execution_count": 3,
   "metadata": {},
   "outputs": [
    {
     "name": "stdout",
     "output_type": "stream",
     "text": [
      "Hi. Please enter your name: sam\n",
      "Hello sam\n",
      "Please enter your age: 20\n",
      "You are going to be age 100 on the year 2100\n"
     ]
    }
   ],
   "source": [
    "\n",
    "#importing the library date time\n",
    "#citation https://codereview.stackexchange.com/questions/201703/find-the-year-when-the-user-will-turn-100\n",
    "import datetime\n",
    "#for knowing today's date\n",
    "now = datetime.datetime.now()\n",
    "#print(now.year, now.month, now.day)\n",
    " \n",
    "name = input(\"Hi. Please enter your name: \") \n",
    " \n",
    "print(\"Hello\", name)\n",
    "\n",
    "#running a while loop if the number entered is anything other than numerics,\n",
    "#so that the exception can be caught and an error message will be displayed\n",
    "\n",
    "while True:\n",
    "    age = input(\"Please enter your age: \")\n",
    "    try:\n",
    "        age2=int(age)\n",
    "        break\n",
    "    except:\n",
    "        print(\"enter only numbers, entered val is not integer\")\n",
    "        #continue\n",
    "print(\"You are going to be age 100 on the year\", (now.year-age2+100))\n",
    "\n",
    "#age=100-int(age)+2020"
   ]
  },
  {
   "cell_type": "markdown",
   "metadata": {},
   "source": [
    "QUESTION 2"
   ]
  },
  {
   "cell_type": "code",
   "execution_count": null,
   "metadata": {},
   "outputs": [],
   "source": [
    "Ask the user for a number. Depending on whether the number is even or odd, \n",
    "print out an appropriate message to the user.\n",
    "Hint: how does an even / odd number react differently when divided by 2?\n",
    "\n",
    "Extras:\n",
    "If the number is a multiple of 4, print out a different message.\n",
    "Ask the user for two numbers: one number to check (call it num) and one number to divide by (check).\n",
    "If check divides evenly into num, tell that to the user. If not, print a different appropriate message."
   ]
  },
  {
   "cell_type": "code",
   "execution_count": 4,
   "metadata": {},
   "outputs": [
    {
     "name": "stdout",
     "output_type": "stream",
     "text": [
      "enter a number12\n",
      "the entered number is even \n",
      "number is multiple of 4\n"
     ]
    }
   ],
   "source": [
    "number=input(\"enter a number\")\n",
    "number2=int(number)\n",
    "#to chceck if number is even, the remainder diveded my 2 should be zero\n",
    "if(number2%2==0):\n",
    "    print(\"the entered number is even \")\n",
    "else:\n",
    "    print(\"the entered number is odd\")\n",
    "if(number2%4==0):\n",
    "    print(\"number is multiple of 4\")"
   ]
  },
  {
   "cell_type": "code",
   "execution_count": 5,
   "metadata": {},
   "outputs": [
    {
     "name": "stdout",
     "output_type": "stream",
     "text": [
      "enter a number12\n",
      "enter a number to divide4\n",
      "number is divided equally\n"
     ]
    }
   ],
   "source": [
    "num=input(\"enter a number\")\n",
    "divide=input(\"enter a number to divide\")\n",
    "if(int(num)%int(divide)==0):\n",
    "    print(\"number is divided equally\")\n",
    "else:\n",
    "    print(\"number is not divided equally\")"
   ]
  },
  {
   "cell_type": "code",
   "execution_count": null,
   "metadata": {},
   "outputs": [],
   "source": [
    "QUESTION 3"
   ]
  },
  {
   "cell_type": "code",
   "execution_count": null,
   "metadata": {},
   "outputs": [],
   "source": [
    "Take a list, say for example this one:\n",
    "\n",
    "  a = [1, 1, 2, 3, 5, 8, 13, 21, 34, 55, 89]\n",
    "and write a program that prints out all the elements of the list that are less than 5.\n",
    "\n",
    "Extras:\n",
    "\n",
    "Instead of printing the elements one by one, make a new list that has all \n",
    "the elements less than 5 from this list in it and print out this new list.\n",
    "Write this in one line of Python.\n",
    "Ask the user for a number and return a list that contains only elements from \n",
    "the original list a that are smaller than that number given by the user."
   ]
  },
  {
   "cell_type": "code",
   "execution_count": 6,
   "metadata": {},
   "outputs": [
    {
     "name": "stdout",
     "output_type": "stream",
     "text": [
      "enter a number that are smaller than that number given 5\n",
      "the numbers below the entered number in a list are\n",
      "[1, 2, 1, 2, 4]\n",
      "the numbers below the entered number are\n",
      "1\n",
      "2\n",
      "1\n",
      "2\n",
      "4\n"
     ]
    }
   ],
   "source": [
    "list1=[1,2,5,6,7,9,1,2,445,4]\n",
    "#in the question it says 5, so that all the numbers below 5 in the list will be displayed\n",
    "number= input(\"enter a number that are smaller than that number given \")\n",
    "number_int=int(number)\n",
    "#taking a new empty list to enter the values below the number entered\n",
    "list2=[]\n",
    "for i in list1:\n",
    "    #iterating the list1\n",
    "    #print(i)\n",
    "    if i< number_int:\n",
    "        #if the number is below the number entered, it should append with new list\n",
    "        list2.append(i)\n",
    "print(\"the numbers below the entered number in a list are\" )\n",
    "print(list2)\n",
    "print(\"the numbers below the entered number are\" )\n",
    "for j in list2:\n",
    "    \n",
    "    print(j)\n",
    "    "
   ]
  },
  {
   "cell_type": "markdown",
   "metadata": {},
   "source": [
    "QUESTION 4"
   ]
  },
  {
   "cell_type": "markdown",
   "metadata": {},
   "source": [
    "Create a program that asks the user for a number and\n",
    "then prints out a list of all the divisors of that number. \n",
    "(If you don’t know what a divisor is, it is a number that divides evenly into another number.          For example, 13 is a divisor of 26 because 26 / 13 has no remainder.)"
   ]
  },
  {
   "cell_type": "code",
   "execution_count": 7,
   "metadata": {},
   "outputs": [
    {
     "name": "stdout",
     "output_type": "stream",
     "text": [
      "enter a number12\n",
      "the divisors of the entered number are\n",
      "1\n",
      "2\n",
      "3\n",
      "4\n",
      "6\n"
     ]
    }
   ],
   "source": [
    "number= input(\"enter a number\")\n",
    "num=int(number)\n",
    "list2=[]\n",
    "for i in range(1,11):\n",
    "    #print(i)\n",
    "    if(num%i==0):\n",
    "        list2.append(i)\n",
    "        #print(\"The divisors of the number are:\",i)\n",
    "#print(list2)\n",
    "print(\"the divisors of the entered number are\")\n",
    "for i in list2:\n",
    "    print(i)"
   ]
  },
  {
   "cell_type": "markdown",
   "metadata": {},
   "source": [
    "QUESTION 5"
   ]
  },
  {
   "cell_type": "markdown",
   "metadata": {},
   "source": [
    "Take two lists, say for example these two:\n",
    "\n",
    "  a = [1, 1, 2, 3, 5, 8, 13, 21, 34, 55, 89]\n",
    "  b = [1, 2, 3, 4, 5, 6, 7, 8, 9, 10, 11, 12, 13]\n",
    "and write a program that returns a list that contains only the elements that are common between the lists (without duplicates). Make sure your program works on two lists of different sizes."
   ]
  },
  {
   "cell_type": "code",
   "execution_count": 8,
   "metadata": {},
   "outputs": [
    {
     "name": "stdout",
     "output_type": "stream",
     "text": [
      "[2, 6, 8, 10, 12, 6, 7, 55]\n"
     ]
    }
   ],
   "source": [
    "#taking 2 lists list1 and list2\n",
    "list1=[2,4,6,8,10,12,3,6,7,55,77]\n",
    "list2=[2,5,6,7,8,9,10,11,12,13,14,55,66,99]\n",
    "#taking a new list to append all the common elements in list1 and list2\n",
    "list3=[]\n",
    "for i in list1:\n",
    "    for j in list2:\n",
    "        #comparing common elements in list\n",
    "        if(i==j):\n",
    "            #appending common elements into new list3\n",
    "            list3.append(i)\n",
    "print(list3)\n",
    "            "
   ]
  },
  {
   "cell_type": "markdown",
   "metadata": {},
   "source": [
    "QUESTION 6"
   ]
  },
  {
   "cell_type": "markdown",
   "metadata": {},
   "source": [
    "Ask the user for a string and print out whether this string is a palindrome or not.\n",
    "(A palindrome is a string that reads the same forwards and backwards.)"
   ]
  },
  {
   "cell_type": "code",
   "execution_count": 9,
   "metadata": {},
   "outputs": [
    {
     "name": "stdout",
     "output_type": "stream",
     "text": [
      "enter a stringsus\n",
      "The entered string is palindrome\n"
     ]
    }
   ],
   "source": [
    "#asking the user to enter a string to find if the entered string is palindrome or not\n",
    "palindromeString=input(\"enter a string\")\n",
    "#taking a new list to append all the characters to the list\n",
    "list2=[]\n",
    "for i in palindromeString:\n",
    "    #print(i)\n",
    "    #appending all the characters in the string to list\n",
    "    list2.append(i)\n",
    "#print(list2)\n",
    "#new list to enter the reverse of the string\n",
    "#performing slicing operation to reverse string and comparing them \n",
    "list3=list2[::-1]\n",
    "if list2==list3:\n",
    "    print(\"The entered string is palindrome\")\n",
    "else:\n",
    "    print(\"The entered string is not a palindrome\")\n",
    "#print(list2[0:len(list2)])\n"
   ]
  },
  {
   "cell_type": "markdown",
   "metadata": {},
   "source": [
    "list1=[1,2,1]\n",
    "list2=list1[::-1]\n",
    "print(list1[0:5])\n",
    "print(list1[::-1])\n",
    "if list1==list2:\n",
    "    print(\"palindrome\")\n",
    "else:\n",
    "    print(\"not a palindrome\")"
   ]
  },
  {
   "cell_type": "code",
   "execution_count": null,
   "metadata": {},
   "outputs": [],
   "source": []
  }
 ],
 "metadata": {
  "kernelspec": {
   "display_name": "Python 3",
   "language": "python",
   "name": "python3"
  },
  "language_info": {
   "codemirror_mode": {
    "name": "ipython",
    "version": 3
   },
   "file_extension": ".py",
   "mimetype": "text/x-python",
   "name": "python",
   "nbconvert_exporter": "python",
   "pygments_lexer": "ipython3",
   "version": "3.7.4"
  }
 },
 "nbformat": 4,
 "nbformat_minor": 2
}
