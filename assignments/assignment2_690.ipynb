{
 "cells": [
  {
   "cell_type": "markdown",
   "metadata": {},
   "source": [
    "ASSIGNMNET 2"
   ]
  },
  {
   "cell_type": "markdown",
   "metadata": {},
   "source": [
    "QUESTION: \n",
    "Write a program that generates 100 random integers between 0 and 9.\n",
    "\n",
    "Print them in a 10 by 10 matrix neatly arranged following the format below (numbers can be different but the asterisks * must be included):\n",
    "\n",
    "**********************************\n",
    "*  5  1  5  6  2  7  8  6  4  2  *\n",
    "*  2  3  7  0  6  9  2  4  2  8  *\n",
    "*  0  0  8  6  4  1  7  2  7  6  *\n",
    "*  0  1  9  0  0  8  5  8  6  8  *\n",
    "*  4  1  0  5  5  7  4  6  4  4  *\n",
    "*  6  0  2  0  1  9  8  2  3  9  *\n",
    "*  4  0  4  8  1  7  6  6  2  1  *\n",
    "*  1  7  6  8  5  4  1  9  6  7  *\n",
    "*  6  4  7  9  9  3  8  2  6  1  *\n",
    "*  9  0  6  4  0  1  0  6  9  9  *\n",
    "**********************************\n",
    "\n",
    "Note: You can submit either a Python script (.py) or a Jupyter Notebook (.ipynb) file\n",
    "\n",
    "Hint: \n",
    "\n",
    "1)  You can use Python standard library random to generate one random number at a time or you can use NumPy random library to generate 100 random number altogether in one shot. \n",
    "\n",
    "2)  You are likely to use nested loop - a loop within in another loop since you are dealing with a 10 x 10 matrix.\n",
    "    "
   ]
  },
  {
   "cell_type": "code",
   "execution_count": 5,
   "metadata": {},
   "outputs": [
    {
     "name": "stdout",
     "output_type": "stream",
     "text": [
      "**********************************\n",
      "*  5  1  9  9  1  1  0  1  9  1  *\n",
      "*  5  7  5  4  8  8  5  2  2  7  *\n",
      "*  0  1  8  6  5  8  6  2  4  2  *\n",
      "*  9  9  4  8  0  2  1  8  9  2  *\n",
      "*  1  5  5  1  7  7  7  6  5  3  *\n",
      "*  8  1  2  5  5  5  6  1  4  2  *\n",
      "*  3  0  9  3  2  3  4  9  8  7  *\n",
      "*  3  6  7  6  9  2  1  3  9  7  *\n",
      "*  8  3  7  4  0  5  2  8  4  4  *\n",
      "*  0  2  3  7  5  5  3  9  0  4  *\n",
      "**********************************\r\n"
     ]
    }
   ],
   "source": [
    "import random\n",
    "\n",
    "# Initializing matrix matrix \n",
    "matrix = [] \n",
    "\n",
    "# for printing the first part of the sequence with \"*\"\n",
    "#34 indicates, the below line of \"*\" consists of 2 spaces between numbers, i.e.,\n",
    "#11*2=22 and 10 numbers and 2 *'s, i.e for the left and right pattern of *\n",
    "#therefore the total number of * are 22+10+2=34\n",
    "for i in range(34):\n",
    "    print(\"*\", end=\"\")\n",
    "#after printing 34 *'s, new line should start\n",
    "print()\n",
    "\n",
    "#this loop is for the 10 row entries\n",
    "for i in range(10):   \n",
    "    a =[] \n",
    "    #this loop is for 10 column entries\n",
    "    for j in range(10):\n",
    "        # #for generating random numbers from 1 to 10 and printing as 10*10 matrix\n",
    "        a.append(random.randrange(10)) \n",
    "    matrix.append(a) \n",
    "\n",
    "#for printing the matrix given in the question \n",
    "for i in range(10): \n",
    "    \n",
    "    #this print statement is for the left side of the sequence containing '*'\n",
    "    #adding a star before every random number is printed in the matrix\n",
    "    print(\"*\",\"\", end=\" \")\n",
    "    \n",
    "##this loop is for columns enteries\n",
    "    for j in range(10): \n",
    "        print(matrix[i][j], end = \"  \")\n",
    "    #this print statement is for printing the random numbers in rows* columns matrix after printing *\n",
    "    print(\"*\")\n",
    "   \n",
    "# for printing the last part of the sequence with \"*\"\n",
    "#34 indicates, the below line of \"*\" consists of 2 spaces between numbers, i.e.,\n",
    "#11*2=22 and 10 numbers and 2 *'s, i.e for the left and right pattern of *\n",
    "#therefore the total number of * are 22+10+2=34   \n",
    "for i in range(34):\n",
    "    print(\"*\",end=\"\")\n",
    "print(\"\\r\")"
   ]
  },
  {
   "cell_type": "markdown",
   "metadata": {},
   "source": [
    "ASSIGNMENT 2"
   ]
  },
  {
   "cell_type": "markdown",
   "metadata": {},
   "source": [
    "QUESTION: \n",
    "Write a program that generates 100 random integers between 0 and 9.\n",
    "\n",
    "Print them in a 10 by 10 matrix neatly arranged following the format below (numbers can be different but the asterisks * must be included):\n",
    "\n",
    "**********************************\n",
    "*  5  1  5  6  2  7  8  6  4  2  *\n",
    "*  2  3  7  0  6  9  2  4  2  8  *\n",
    "*  0  0  8  6  4  1  7  2  7  6  *\n",
    "*  0  1  9  0  0  8  5  8  6  8  *\n",
    "*  4  1  0  5  5  7  4  6  4  4  *\n",
    "*  6  0  2  0  1  9  8  2  3  9  *\n",
    "*  4  0  4  8  1  7  6  6  2  1  *\n",
    "*  1  7  6  8  5  4  1  9  6  7  *\n",
    "*  6  4  7  9  9  3  8  2  6  1  *\n",
    "*  9  0  6  4  0  1  0  6  9  9  *\n",
    "**********************************\n",
    "\n",
    "Note: You can submit either a Python script (.py) or a Jupyter Notebook (.ipynb) file\n",
    "\n",
    "Hint: \n",
    "\n",
    "1)  You can use Python standard library random to generate one random number at a time or you can use NumPy random library to generate 100 random number altogether in one shot. \n",
    "\n",
    "2)  You are likely to use nested loop - a loop within in another loop since you are dealing with a 10 x 10 matrix.\n",
    "    "
   ]
  },
  {
   "cell_type": "markdown",
   "metadata": {},
   "source": [
    "METHOD 2: Prompting the user to enter number of rows and columns manually\n",
    "in this question, the number of rows and columns asked is 10"
   ]
  },
  {
   "cell_type": "code",
   "execution_count": 6,
   "metadata": {},
   "outputs": [
    {
     "name": "stdout",
     "output_type": "stream",
     "text": [
      "Enter the number of rows:10\n",
      "Enter the number of columns:10\n",
      "**********************************\n",
      "*  0  6  3  2  8  4  2  1  4  9  *\n",
      "*  5  6  8  5  1  7  2  4  0  7  *\n",
      "*  0  6  9  1  4  4  3  7  2  7  *\n",
      "*  6  3  1  8  3  3  5  7  7  9  *\n",
      "*  1  5  8  5  7  0  2  1  8  0  *\n",
      "*  7  6  7  7  6  2  8  6  5  7  *\n",
      "*  3  5  1  4  8  0  9  9  9  8  *\n",
      "*  5  2  7  0  2  8  7  6  3  6  *\n",
      "*  8  4  7  0  6  6  0  5  2  6  *\n",
      "*  0  4  8  0  6  8  2  2  1  9  *\n",
      "**********************************\n"
     ]
    }
   ],
   "source": [
    "#random library for generating random numbers in the matrix\n",
    "import random\n",
    "\n",
    "#asking the user to enter the number of rows and columns\n",
    "#in this question the number of rows and columns asked is 10\n",
    "Rows = int(input(\"Enter the number of rows:\")) \n",
    "Columns = int(input(\"Enter the number of columns:\")) \n",
    "  \n",
    "# Initializing a matrix where all the rows and columns are stored\n",
    "matrix = []  \n",
    "\n",
    "# for printing the first part of the sequence with \"*\"\n",
    "#34 indicates, the below line of \"*\" consists of 2 spaces between numbers, i.e.,\n",
    "#11*2=22 and 10 numbers and 2 *'s, i.e for the left and right pattern of *\n",
    "#therefore the total number of * are 22+10+2=34\n",
    "\n",
    "for i in range(34):\n",
    "    print(\"*\", end=\"\")\n",
    "#after printing 34 *'s, new line should start\n",
    "print()\n",
    "\n",
    "#this loop is for the row enteries\n",
    "for i in range(Rows):   \n",
    "    a =[] \n",
    "    #this loop is for columns enteries\n",
    "    for j in range(Columns):\n",
    "        #for generating random numbers from 1 to 10 and printing as 10*10 matrix\n",
    "        a.append(random.randrange(10)) \n",
    "    matrix.append(a) \n",
    "  \n",
    "\n",
    "#printing the matrix in the structure given in the question\n",
    "for i in range(Rows): \n",
    "    #this print statement is for the left side of the sequence containing '*'\n",
    "    #adding a star before every random number is printed in the matrix\n",
    "    print(\"*\",\"\", end=\" \")\n",
    "    for j in range(Columns): \n",
    "        # this print statement is for printing the random numbers in rows* columns matrix after printing *\n",
    "        print(matrix[i][j], end = \"  \")\n",
    "    #this print statement is for the right side of the sequence containing '*'\n",
    "    #adding a star after every random number is printed in the matrix\n",
    "    print(\"*\")\n",
    "     \n",
    "\n",
    "# for printing the last part of the sequence with \"*\"\n",
    "#34 indicates, the below line of \"*\" consists of 2 spaces between numbers, i.e.,\n",
    "#11*2=22 and 10 numbers and 2 *'s, i.e for the left and right pattern of *\n",
    "#therefore the total number of * are 22+10+2=34\n",
    "for i in range(34):\n",
    "    print(\"*\",end=\"\")\n",
    "print(\"\\r\")\n"
   ]
  },
  {
   "cell_type": "code",
   "execution_count": null,
   "metadata": {},
   "outputs": [],
   "source": []
  }
 ],
 "metadata": {
  "kernelspec": {
   "display_name": "Python 3",
   "language": "python",
   "name": "python3"
  },
  "language_info": {
   "codemirror_mode": {
    "name": "ipython",
    "version": 3
   },
   "file_extension": ".py",
   "mimetype": "text/x-python",
   "name": "python",
   "nbconvert_exporter": "python",
   "pygments_lexer": "ipython3",
   "version": "3.7.4"
  }
 },
 "nbformat": 4,
 "nbformat_minor": 2
}
