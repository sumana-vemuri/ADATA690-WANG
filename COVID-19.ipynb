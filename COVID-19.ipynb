{
 "cells": [
  {
   "cell_type": "code",
   "execution_count": null,
   "metadata": {},
   "outputs": [],
   "source": [
    "Assignment #7\n",
    "This assignment is a mini individual project. \n",
    "\n",
    "Find some matter/data that is interesting, to you, explore it using Python/Pandas/ - descriptive statistics, data visualization, etc. \n",
    "\n",
    "Using Google Colab and Github. create a repository in GitHub to host the mini project.  The repository should be a separate public repository (not part of DATA 690-WANG) and showcases your work to your potential employers or current employers.\n",
    "\n",
    "Make sure to create README.md to document the project.\n",
    "Also make the notebook complete, substantial, and pretty with Markdown, descriptions, and comments. Make the plots large enough. \n",
    "Make sure the first cell of the Jupyter Notebook provides background of the project, data source, data elements \n",
    "Submit the link to the repository. Don't attach the notebook when submitting.\n",
    "\n",
    "Have fun exploring!"
   ]
  },
  {
   "cell_type": "code",
   "execution_count": null,
   "metadata": {},
   "outputs": [],
   "source": []
  },
  {
   "cell_type": "code",
   "execution_count": null,
   "metadata": {},
   "outputs": [],
   "source": [
    "#this visulaization is for data set related to covid-19\n",
    "\n",
    "#for all the counties and state of USA\n",
    "#this dataset has sate, county, state, fips, cases and deaths"
   ]
  },
  {
   "cell_type": "code",
   "execution_count": null,
   "metadata": {},
   "outputs": [],
   "source": [
    "#dataset location https://www.kaggle.com/fireballbyedimyrnmom/us-counties-covid-19-dataset/data#"
   ]
  },
  {
   "cell_type": "code",
   "execution_count": 29,
   "metadata": {},
   "outputs": [],
   "source": [
    "import pandas as pd\n",
    "#import matplotlib.pyplot.plot\n",
    "\n",
    "import pandas as pd\n",
    "import matplotlib.pyplot as plt\n",
    "import matplotlib.animation as animation\n",
    "from time import sleep"
   ]
  },
  {
   "cell_type": "code",
   "execution_count": 30,
   "metadata": {},
   "outputs": [],
   "source": [
    "df=pd.read_csv(\"us-counties.csv\")"
   ]
  },
  {
   "cell_type": "code",
   "execution_count": 31,
   "metadata": {},
   "outputs": [
    {
     "data": {
      "text/html": [
       "<div>\n",
       "<style scoped>\n",
       "    .dataframe tbody tr th:only-of-type {\n",
       "        vertical-align: middle;\n",
       "    }\n",
       "\n",
       "    .dataframe tbody tr th {\n",
       "        vertical-align: top;\n",
       "    }\n",
       "\n",
       "    .dataframe thead th {\n",
       "        text-align: right;\n",
       "    }\n",
       "</style>\n",
       "<table border=\"1\" class=\"dataframe\">\n",
       "  <thead>\n",
       "    <tr style=\"text-align: right;\">\n",
       "      <th></th>\n",
       "      <th>date</th>\n",
       "      <th>county</th>\n",
       "      <th>state</th>\n",
       "      <th>fips</th>\n",
       "      <th>cases</th>\n",
       "      <th>deaths</th>\n",
       "    </tr>\n",
       "  </thead>\n",
       "  <tbody>\n",
       "    <tr>\n",
       "      <td>0</td>\n",
       "      <td>2020-01-21</td>\n",
       "      <td>Snohomish</td>\n",
       "      <td>Washington</td>\n",
       "      <td>53061.0</td>\n",
       "      <td>1</td>\n",
       "      <td>0</td>\n",
       "    </tr>\n",
       "    <tr>\n",
       "      <td>1</td>\n",
       "      <td>2020-01-22</td>\n",
       "      <td>Snohomish</td>\n",
       "      <td>Washington</td>\n",
       "      <td>53061.0</td>\n",
       "      <td>1</td>\n",
       "      <td>0</td>\n",
       "    </tr>\n",
       "    <tr>\n",
       "      <td>2</td>\n",
       "      <td>2020-01-23</td>\n",
       "      <td>Snohomish</td>\n",
       "      <td>Washington</td>\n",
       "      <td>53061.0</td>\n",
       "      <td>1</td>\n",
       "      <td>0</td>\n",
       "    </tr>\n",
       "    <tr>\n",
       "      <td>3</td>\n",
       "      <td>2020-01-24</td>\n",
       "      <td>Cook</td>\n",
       "      <td>Illinois</td>\n",
       "      <td>17031.0</td>\n",
       "      <td>1</td>\n",
       "      <td>0</td>\n",
       "    </tr>\n",
       "    <tr>\n",
       "      <td>4</td>\n",
       "      <td>2020-01-24</td>\n",
       "      <td>Snohomish</td>\n",
       "      <td>Washington</td>\n",
       "      <td>53061.0</td>\n",
       "      <td>1</td>\n",
       "      <td>0</td>\n",
       "    </tr>\n",
       "  </tbody>\n",
       "</table>\n",
       "</div>"
      ],
      "text/plain": [
       "         date     county       state     fips  cases  deaths\n",
       "0  2020-01-21  Snohomish  Washington  53061.0      1       0\n",
       "1  2020-01-22  Snohomish  Washington  53061.0      1       0\n",
       "2  2020-01-23  Snohomish  Washington  53061.0      1       0\n",
       "3  2020-01-24       Cook    Illinois  17031.0      1       0\n",
       "4  2020-01-24  Snohomish  Washington  53061.0      1       0"
      ]
     },
     "execution_count": 31,
     "metadata": {},
     "output_type": "execute_result"
    }
   ],
   "source": [
    "df.head()"
   ]
  },
  {
   "cell_type": "code",
   "execution_count": null,
   "metadata": {},
   "outputs": [],
   "source": [
    "#a specific code for counties, this may vary for metro areas"
   ]
  },
  {
   "cell_type": "code",
   "execution_count": 17,
   "metadata": {},
   "outputs": [
    {
     "data": {
      "text/html": [
       "<div>\n",
       "<style scoped>\n",
       "    .dataframe tbody tr th:only-of-type {\n",
       "        vertical-align: middle;\n",
       "    }\n",
       "\n",
       "    .dataframe tbody tr th {\n",
       "        vertical-align: top;\n",
       "    }\n",
       "\n",
       "    .dataframe thead th {\n",
       "        text-align: right;\n",
       "    }\n",
       "</style>\n",
       "<table border=\"1\" class=\"dataframe\">\n",
       "  <thead>\n",
       "    <tr style=\"text-align: right;\">\n",
       "      <th></th>\n",
       "      <th>date</th>\n",
       "      <th>county</th>\n",
       "      <th>state</th>\n",
       "      <th>fips</th>\n",
       "      <th>cases</th>\n",
       "      <th>deaths</th>\n",
       "    </tr>\n",
       "  </thead>\n",
       "  <tbody>\n",
       "    <tr>\n",
       "      <td>135565</td>\n",
       "      <td>2020-05-11</td>\n",
       "      <td>Sublette</td>\n",
       "      <td>Wyoming</td>\n",
       "      <td>56035.0</td>\n",
       "      <td>3</td>\n",
       "      <td>0</td>\n",
       "    </tr>\n",
       "    <tr>\n",
       "      <td>135566</td>\n",
       "      <td>2020-05-11</td>\n",
       "      <td>Sweetwater</td>\n",
       "      <td>Wyoming</td>\n",
       "      <td>56037.0</td>\n",
       "      <td>20</td>\n",
       "      <td>0</td>\n",
       "    </tr>\n",
       "    <tr>\n",
       "      <td>135567</td>\n",
       "      <td>2020-05-11</td>\n",
       "      <td>Teton</td>\n",
       "      <td>Wyoming</td>\n",
       "      <td>56039.0</td>\n",
       "      <td>98</td>\n",
       "      <td>1</td>\n",
       "    </tr>\n",
       "    <tr>\n",
       "      <td>135568</td>\n",
       "      <td>2020-05-11</td>\n",
       "      <td>Uinta</td>\n",
       "      <td>Wyoming</td>\n",
       "      <td>56041.0</td>\n",
       "      <td>9</td>\n",
       "      <td>0</td>\n",
       "    </tr>\n",
       "    <tr>\n",
       "      <td>135569</td>\n",
       "      <td>2020-05-11</td>\n",
       "      <td>Washakie</td>\n",
       "      <td>Wyoming</td>\n",
       "      <td>56043.0</td>\n",
       "      <td>7</td>\n",
       "      <td>0</td>\n",
       "    </tr>\n",
       "  </tbody>\n",
       "</table>\n",
       "</div>"
      ],
      "text/plain": [
       "              date      county    state     fips  cases  deaths\n",
       "135565  2020-05-11    Sublette  Wyoming  56035.0      3       0\n",
       "135566  2020-05-11  Sweetwater  Wyoming  56037.0     20       0\n",
       "135567  2020-05-11       Teton  Wyoming  56039.0     98       1\n",
       "135568  2020-05-11       Uinta  Wyoming  56041.0      9       0\n",
       "135569  2020-05-11    Washakie  Wyoming  56043.0      7       0"
      ]
     },
     "execution_count": 17,
     "metadata": {},
     "output_type": "execute_result"
    }
   ],
   "source": [
    "df.tail()"
   ]
  },
  {
   "cell_type": "code",
   "execution_count": 32,
   "metadata": {},
   "outputs": [
    {
     "data": {
      "text/plain": [
       "Index(['date', 'county', 'state', 'fips', 'cases', 'deaths'], dtype='object')"
      ]
     },
     "execution_count": 32,
     "metadata": {},
     "output_type": "execute_result"
    }
   ],
   "source": [
    "df.columns"
   ]
  },
  {
   "cell_type": "code",
   "execution_count": 33,
   "metadata": {},
   "outputs": [
    {
     "data": {
      "text/plain": [
       "date         0\n",
       "county       0\n",
       "state        0\n",
       "fips      1545\n",
       "cases        0\n",
       "deaths       0\n",
       "dtype: int64"
      ]
     },
     "execution_count": 33,
     "metadata": {},
     "output_type": "execute_result"
    }
   ],
   "source": [
    "df.isnull().sum()"
   ]
  },
  {
   "cell_type": "code",
   "execution_count": 34,
   "metadata": {},
   "outputs": [
    {
     "data": {
      "text/plain": [
       "813420"
      ]
     },
     "execution_count": 34,
     "metadata": {},
     "output_type": "execute_result"
    }
   ],
   "source": [
    "df.size"
   ]
  },
  {
   "cell_type": "code",
   "execution_count": null,
   "metadata": {},
   "outputs": [],
   "source": [
    "#dropping all the null values "
   ]
  },
  {
   "cell_type": "code",
   "execution_count": 35,
   "metadata": {},
   "outputs": [],
   "source": [
    "df.dropna(inplace=True)\n",
    "#print(df)"
   ]
  },
  {
   "cell_type": "code",
   "execution_count": 36,
   "metadata": {},
   "outputs": [
    {
     "data": {
      "text/plain": [
       "date      0\n",
       "county    0\n",
       "state     0\n",
       "fips      0\n",
       "cases     0\n",
       "deaths    0\n",
       "dtype: int64"
      ]
     },
     "execution_count": 36,
     "metadata": {},
     "output_type": "execute_result"
    }
   ],
   "source": [
    "df.isnull().sum()"
   ]
  },
  {
   "cell_type": "code",
   "execution_count": 24,
   "metadata": {},
   "outputs": [
    {
     "data": {
      "text/html": [
       "<div>\n",
       "<style scoped>\n",
       "    .dataframe tbody tr th:only-of-type {\n",
       "        vertical-align: middle;\n",
       "    }\n",
       "\n",
       "    .dataframe tbody tr th {\n",
       "        vertical-align: top;\n",
       "    }\n",
       "\n",
       "    .dataframe thead th {\n",
       "        text-align: right;\n",
       "    }\n",
       "</style>\n",
       "<table border=\"1\" class=\"dataframe\">\n",
       "  <thead>\n",
       "    <tr style=\"text-align: right;\">\n",
       "      <th></th>\n",
       "      <th>fips</th>\n",
       "      <th>cases</th>\n",
       "      <th>deaths</th>\n",
       "    </tr>\n",
       "    <tr>\n",
       "      <th>state</th>\n",
       "      <th></th>\n",
       "      <th></th>\n",
       "      <th></th>\n",
       "    </tr>\n",
       "  </thead>\n",
       "  <tbody>\n",
       "    <tr>\n",
       "      <td>Alabama</td>\n",
       "      <td>3490340.0</td>\n",
       "      <td>227480</td>\n",
       "      <td>7847</td>\n",
       "    </tr>\n",
       "    <tr>\n",
       "      <td>Alaska</td>\n",
       "      <td>1251793.0</td>\n",
       "      <td>13162</td>\n",
       "      <td>264</td>\n",
       "    </tr>\n",
       "    <tr>\n",
       "      <td>Arizona</td>\n",
       "      <td>3432060.0</td>\n",
       "      <td>242360</td>\n",
       "      <td>9688</td>\n",
       "    </tr>\n",
       "    <tr>\n",
       "      <td>Arkansas</td>\n",
       "      <td>17266284.0</td>\n",
       "      <td>93421</td>\n",
       "      <td>1948</td>\n",
       "    </tr>\n",
       "    <tr>\n",
       "      <td>California</td>\n",
       "      <td>20109463.0</td>\n",
       "      <td>1589880</td>\n",
       "      <td>58574</td>\n",
       "    </tr>\n",
       "    <tr>\n",
       "      <td>Colorado</td>\n",
       "      <td>23566446.0</td>\n",
       "      <td>472243</td>\n",
       "      <td>22009</td>\n",
       "    </tr>\n",
       "    <tr>\n",
       "      <td>Connecticut</td>\n",
       "      <td>4143558.0</td>\n",
       "      <td>808600</td>\n",
       "      <td>59627</td>\n",
       "    </tr>\n",
       "    <tr>\n",
       "      <td>Delaware</td>\n",
       "      <td>1730521.0</td>\n",
       "      <td>131622</td>\n",
       "      <td>4022</td>\n",
       "    </tr>\n",
       "    <tr>\n",
       "      <td>District of Columbia</td>\n",
       "      <td>726066.0</td>\n",
       "      <td>134613</td>\n",
       "      <td>5764</td>\n",
       "    </tr>\n",
       "    <tr>\n",
       "      <td>Florida</td>\n",
       "      <td>42793964.0</td>\n",
       "      <td>1124472</td>\n",
       "      <td>36845</td>\n",
       "    </tr>\n",
       "    <tr>\n",
       "      <td>Georgia</td>\n",
       "      <td>101552481.0</td>\n",
       "      <td>777927</td>\n",
       "      <td>32815</td>\n",
       "    </tr>\n",
       "    <tr>\n",
       "      <td>Hawaii</td>\n",
       "      <td>3601192.0</td>\n",
       "      <td>23047</td>\n",
       "      <td>456</td>\n",
       "    </tr>\n",
       "    <tr>\n",
       "      <td>Idaho</td>\n",
       "      <td>24582614.0</td>\n",
       "      <td>70857</td>\n",
       "      <td>1858</td>\n",
       "    </tr>\n",
       "    <tr>\n",
       "      <td>Illinois</td>\n",
       "      <td>72598267.0</td>\n",
       "      <td>1580900</td>\n",
       "      <td>65921</td>\n",
       "    </tr>\n",
       "    <tr>\n",
       "      <td>Indiana</td>\n",
       "      <td>82080823.0</td>\n",
       "      <td>544525</td>\n",
       "      <td>29770</td>\n",
       "    </tr>\n",
       "    <tr>\n",
       "      <td>Iowa</td>\n",
       "      <td>74336440.0</td>\n",
       "      <td>200455</td>\n",
       "      <td>4373</td>\n",
       "    </tr>\n",
       "    <tr>\n",
       "      <td>Kansas</td>\n",
       "      <td>63688276.0</td>\n",
       "      <td>123537</td>\n",
       "      <td>4026</td>\n",
       "    </tr>\n",
       "    <tr>\n",
       "      <td>Kentucky</td>\n",
       "      <td>101415868.0</td>\n",
       "      <td>141550</td>\n",
       "      <td>7080</td>\n",
       "    </tr>\n",
       "    <tr>\n",
       "      <td>Louisiana</td>\n",
       "      <td>72103888.0</td>\n",
       "      <td>985234</td>\n",
       "      <td>56401</td>\n",
       "    </tr>\n",
       "    <tr>\n",
       "      <td>Maine</td>\n",
       "      <td>18090278.0</td>\n",
       "      <td>38434</td>\n",
       "      <td>1521</td>\n",
       "    </tr>\n",
       "    <tr>\n",
       "      <td>Maryland</td>\n",
       "      <td>31644808.0</td>\n",
       "      <td>649595</td>\n",
       "      <td>27145</td>\n",
       "    </tr>\n",
       "    <tr>\n",
       "      <td>Massachusetts</td>\n",
       "      <td>21937873.0</td>\n",
       "      <td>1781409</td>\n",
       "      <td>91512</td>\n",
       "    </tr>\n",
       "    <tr>\n",
       "      <td>Michigan</td>\n",
       "      <td>99124658.0</td>\n",
       "      <td>1309736</td>\n",
       "      <td>106293</td>\n",
       "    </tr>\n",
       "    <tr>\n",
       "      <td>Minnesota</td>\n",
       "      <td>96375610.0</td>\n",
       "      <td>165002</td>\n",
       "      <td>9154</td>\n",
       "    </tr>\n",
       "    <tr>\n",
       "      <td>Mississippi</td>\n",
       "      <td>115109591.0</td>\n",
       "      <td>208543</td>\n",
       "      <td>8052</td>\n",
       "    </tr>\n",
       "    <tr>\n",
       "      <td>Missouri</td>\n",
       "      <td>124210193.0</td>\n",
       "      <td>231824</td>\n",
       "      <td>9447</td>\n",
       "    </tr>\n",
       "    <tr>\n",
       "      <td>Montana</td>\n",
       "      <td>41173340.0</td>\n",
       "      <td>17755</td>\n",
       "      <td>466</td>\n",
       "    </tr>\n",
       "    <tr>\n",
       "      <td>Nebraska</td>\n",
       "      <td>71481729.0</td>\n",
       "      <td>121939</td>\n",
       "      <td>1832</td>\n",
       "    </tr>\n",
       "    <tr>\n",
       "      <td>Nevada</td>\n",
       "      <td>17894771.0</td>\n",
       "      <td>166286</td>\n",
       "      <td>7109</td>\n",
       "    </tr>\n",
       "    <tr>\n",
       "      <td>New Hampshire</td>\n",
       "      <td>18386599.0</td>\n",
       "      <td>68923</td>\n",
       "      <td>2186</td>\n",
       "    </tr>\n",
       "    <tr>\n",
       "      <td>New Jersey</td>\n",
       "      <td>42594054.0</td>\n",
       "      <td>3652789</td>\n",
       "      <td>197056</td>\n",
       "    </tr>\n",
       "    <tr>\n",
       "      <td>New Mexico</td>\n",
       "      <td>45925360.0</td>\n",
       "      <td>98832</td>\n",
       "      <td>3330</td>\n",
       "    </tr>\n",
       "    <tr>\n",
       "      <td>New York</td>\n",
       "      <td>113742642.0</td>\n",
       "      <td>4599625</td>\n",
       "      <td>172283</td>\n",
       "    </tr>\n",
       "    <tr>\n",
       "      <td>North Carolina</td>\n",
       "      <td>171217423.0</td>\n",
       "      <td>319524</td>\n",
       "      <td>10277</td>\n",
       "    </tr>\n",
       "    <tr>\n",
       "      <td>North Dakota</td>\n",
       "      <td>56550790.0</td>\n",
       "      <td>30146</td>\n",
       "      <td>627</td>\n",
       "    </tr>\n",
       "    <tr>\n",
       "      <td>Ohio</td>\n",
       "      <td>165961074.0</td>\n",
       "      <td>538006</td>\n",
       "      <td>25819</td>\n",
       "    </tr>\n",
       "    <tr>\n",
       "      <td>Oklahoma</td>\n",
       "      <td>124162242.0</td>\n",
       "      <td>117341</td>\n",
       "      <td>6578</td>\n",
       "    </tr>\n",
       "    <tr>\n",
       "      <td>Oregon</td>\n",
       "      <td>67506541.0</td>\n",
       "      <td>87246</td>\n",
       "      <td>3246</td>\n",
       "    </tr>\n",
       "    <tr>\n",
       "      <td>Pennsylvania</td>\n",
       "      <td>142817425.0</td>\n",
       "      <td>1454305</td>\n",
       "      <td>67397</td>\n",
       "    </tr>\n",
       "    <tr>\n",
       "      <td>Rhode Island</td>\n",
       "      <td>10561200.0</td>\n",
       "      <td>191448</td>\n",
       "      <td>4420</td>\n",
       "    </tr>\n",
       "    <tr>\n",
       "      <td>South Carolina</td>\n",
       "      <td>108832024.0</td>\n",
       "      <td>196968</td>\n",
       "      <td>6736</td>\n",
       "    </tr>\n",
       "    <tr>\n",
       "      <td>South Dakota</td>\n",
       "      <td>87805562.0</td>\n",
       "      <td>69423</td>\n",
       "      <td>524</td>\n",
       "    </tr>\n",
       "    <tr>\n",
       "      <td>Tennessee</td>\n",
       "      <td>210749397.0</td>\n",
       "      <td>348153</td>\n",
       "      <td>6272</td>\n",
       "    </tr>\n",
       "    <tr>\n",
       "      <td>Texas</td>\n",
       "      <td>436370646.0</td>\n",
       "      <td>906497</td>\n",
       "      <td>23423</td>\n",
       "    </tr>\n",
       "    <tr>\n",
       "      <td>Utah</td>\n",
       "      <td>57758124.0</td>\n",
       "      <td>149326</td>\n",
       "      <td>1233</td>\n",
       "    </tr>\n",
       "    <tr>\n",
       "      <td>Vermont</td>\n",
       "      <td>36410246.0</td>\n",
       "      <td>32638</td>\n",
       "      <td>1501</td>\n",
       "    </tr>\n",
       "    <tr>\n",
       "      <td>Virginia</td>\n",
       "      <td>299850342.0</td>\n",
       "      <td>460352</td>\n",
       "      <td>14280</td>\n",
       "    </tr>\n",
       "    <tr>\n",
       "      <td>Washington</td>\n",
       "      <td>118067312.0</td>\n",
       "      <td>547214</td>\n",
       "      <td>29047</td>\n",
       "    </tr>\n",
       "    <tr>\n",
       "      <td>West Virginia</td>\n",
       "      <td>113680067.0</td>\n",
       "      <td>36162</td>\n",
       "      <td>1082</td>\n",
       "    </tr>\n",
       "    <tr>\n",
       "      <td>Wisconsin</td>\n",
       "      <td>174903659.0</td>\n",
       "      <td>226141</td>\n",
       "      <td>9557</td>\n",
       "    </tr>\n",
       "    <tr>\n",
       "      <td>Wyoming</td>\n",
       "      <td>55965835.0</td>\n",
       "      <td>18551</td>\n",
       "      <td>159</td>\n",
       "    </tr>\n",
       "  </tbody>\n",
       "</table>\n",
       "</div>"
      ],
      "text/plain": [
       "                             fips    cases  deaths\n",
       "state                                             \n",
       "Alabama                 3490340.0   227480    7847\n",
       "Alaska                  1251793.0    13162     264\n",
       "Arizona                 3432060.0   242360    9688\n",
       "Arkansas               17266284.0    93421    1948\n",
       "California             20109463.0  1589880   58574\n",
       "Colorado               23566446.0   472243   22009\n",
       "Connecticut             4143558.0   808600   59627\n",
       "Delaware                1730521.0   131622    4022\n",
       "District of Columbia     726066.0   134613    5764\n",
       "Florida                42793964.0  1124472   36845\n",
       "Georgia               101552481.0   777927   32815\n",
       "Hawaii                  3601192.0    23047     456\n",
       "Idaho                  24582614.0    70857    1858\n",
       "Illinois               72598267.0  1580900   65921\n",
       "Indiana                82080823.0   544525   29770\n",
       "Iowa                   74336440.0   200455    4373\n",
       "Kansas                 63688276.0   123537    4026\n",
       "Kentucky              101415868.0   141550    7080\n",
       "Louisiana              72103888.0   985234   56401\n",
       "Maine                  18090278.0    38434    1521\n",
       "Maryland               31644808.0   649595   27145\n",
       "Massachusetts          21937873.0  1781409   91512\n",
       "Michigan               99124658.0  1309736  106293\n",
       "Minnesota              96375610.0   165002    9154\n",
       "Mississippi           115109591.0   208543    8052\n",
       "Missouri              124210193.0   231824    9447\n",
       "Montana                41173340.0    17755     466\n",
       "Nebraska               71481729.0   121939    1832\n",
       "Nevada                 17894771.0   166286    7109\n",
       "New Hampshire          18386599.0    68923    2186\n",
       "New Jersey             42594054.0  3652789  197056\n",
       "New Mexico             45925360.0    98832    3330\n",
       "New York              113742642.0  4599625  172283\n",
       "North Carolina        171217423.0   319524   10277\n",
       "North Dakota           56550790.0    30146     627\n",
       "Ohio                  165961074.0   538006   25819\n",
       "Oklahoma              124162242.0   117341    6578\n",
       "Oregon                 67506541.0    87246    3246\n",
       "Pennsylvania          142817425.0  1454305   67397\n",
       "Rhode Island           10561200.0   191448    4420\n",
       "South Carolina        108832024.0   196968    6736\n",
       "South Dakota           87805562.0    69423     524\n",
       "Tennessee             210749397.0   348153    6272\n",
       "Texas                 436370646.0   906497   23423\n",
       "Utah                   57758124.0   149326    1233\n",
       "Vermont                36410246.0    32638    1501\n",
       "Virginia              299850342.0   460352   14280\n",
       "Washington            118067312.0   547214   29047\n",
       "West Virginia         113680067.0    36162    1082\n",
       "Wisconsin             174903659.0   226141    9557\n",
       "Wyoming                55965835.0    18551     159"
      ]
     },
     "execution_count": 24,
     "metadata": {},
     "output_type": "execute_result"
    }
   ],
   "source": [
    "#df.groupby(['state']).sum()"
   ]
  },
  {
   "cell_type": "code",
   "execution_count": null,
   "metadata": {},
   "outputs": [],
   "source": [
    "#the below bar plot shows the number of deaths for the states 'Maryland', 'Washington', 'Ohio', 'New York', 'Florida'"
   ]
  },
  {
   "cell_type": "code",
   "execution_count": 49,
   "metadata": {},
   "outputs": [
    {
     "data": {
      "image/png": "[encoded data removed]",
      "text/plain": [
       "<Figure size 1080x576 with 1 Axes>"
      ]
     },
     "metadata": {
      "needs_background": "light"
     },
     "output_type": "display_data"
    }
   ],
   "source": [
    "\n",
    "fig, ax = plt.subplots(figsize=(15, 8))\n",
    "list_countries = ['Maryland', 'Washington', 'Ohio', 'New York', 'Florida']\n",
    "ax.clear() \n",
    "df4 = df[df['state'].isin(list_countries)]  \n",
    "#sleep(0.2)  \n",
    "ax.bar(df4['state'], df4['deaths'])\n",
    "plt.show()"
   ]
  },
  {
   "cell_type": "code",
   "execution_count": 55,
   "metadata": {},
   "outputs": [
    {
     "data": {
      "text/html": [
       "<div>\n",
       "<style scoped>\n",
       "    .dataframe tbody tr th:only-of-type {\n",
       "        vertical-align: middle;\n",
       "    }\n",
       "\n",
       "    .dataframe tbody tr th {\n",
       "        vertical-align: top;\n",
       "    }\n",
       "\n",
       "    .dataframe thead th {\n",
       "        text-align: right;\n",
       "    }\n",
       "</style>\n",
       "<table border=\"1\" class=\"dataframe\">\n",
       "  <thead>\n",
       "    <tr style=\"text-align: right;\">\n",
       "      <th></th>\n",
       "      <th>date</th>\n",
       "      <th>county</th>\n",
       "      <th>state</th>\n",
       "      <th>fips</th>\n",
       "      <th>cases</th>\n",
       "      <th>deaths</th>\n",
       "    </tr>\n",
       "  </thead>\n",
       "  <tbody>\n",
       "    <tr>\n",
       "      <td>134571</td>\n",
       "      <td>2020-05-11</td>\n",
       "      <td>Gallia</td>\n",
       "      <td>Ohio</td>\n",
       "      <td>39053.0</td>\n",
       "      <td>6</td>\n",
       "      <td>1</td>\n",
       "    </tr>\n",
       "    <tr>\n",
       "      <td>134572</td>\n",
       "      <td>2020-05-11</td>\n",
       "      <td>Geauga</td>\n",
       "      <td>Ohio</td>\n",
       "      <td>39055.0</td>\n",
       "      <td>191</td>\n",
       "      <td>19</td>\n",
       "    </tr>\n",
       "    <tr>\n",
       "      <td>134573</td>\n",
       "      <td>2020-05-11</td>\n",
       "      <td>Greene</td>\n",
       "      <td>Ohio</td>\n",
       "      <td>39057.0</td>\n",
       "      <td>63</td>\n",
       "      <td>5</td>\n",
       "    </tr>\n",
       "    <tr>\n",
       "      <td>134574</td>\n",
       "      <td>2020-05-11</td>\n",
       "      <td>Guernsey</td>\n",
       "      <td>Ohio</td>\n",
       "      <td>39059.0</td>\n",
       "      <td>21</td>\n",
       "      <td>0</td>\n",
       "    </tr>\n",
       "    <tr>\n",
       "      <td>134575</td>\n",
       "      <td>2020-05-11</td>\n",
       "      <td>Hamilton</td>\n",
       "      <td>Ohio</td>\n",
       "      <td>39061.0</td>\n",
       "      <td>1823</td>\n",
       "      <td>101</td>\n",
       "    </tr>\n",
       "    <tr>\n",
       "      <td>...</td>\n",
       "      <td>...</td>\n",
       "      <td>...</td>\n",
       "      <td>...</td>\n",
       "      <td>...</td>\n",
       "      <td>...</td>\n",
       "      <td>...</td>\n",
       "    </tr>\n",
       "    <tr>\n",
       "      <td>135423</td>\n",
       "      <td>2020-05-11</td>\n",
       "      <td>Wahkiakum</td>\n",
       "      <td>Washington</td>\n",
       "      <td>53069.0</td>\n",
       "      <td>4</td>\n",
       "      <td>0</td>\n",
       "    </tr>\n",
       "    <tr>\n",
       "      <td>135424</td>\n",
       "      <td>2020-05-11</td>\n",
       "      <td>Walla Walla</td>\n",
       "      <td>Washington</td>\n",
       "      <td>53071.0</td>\n",
       "      <td>104</td>\n",
       "      <td>2</td>\n",
       "    </tr>\n",
       "    <tr>\n",
       "      <td>135425</td>\n",
       "      <td>2020-05-11</td>\n",
       "      <td>Whatcom</td>\n",
       "      <td>Washington</td>\n",
       "      <td>53073.0</td>\n",
       "      <td>338</td>\n",
       "      <td>34</td>\n",
       "    </tr>\n",
       "    <tr>\n",
       "      <td>135426</td>\n",
       "      <td>2020-05-11</td>\n",
       "      <td>Whitman</td>\n",
       "      <td>Washington</td>\n",
       "      <td>53075.0</td>\n",
       "      <td>16</td>\n",
       "      <td>0</td>\n",
       "    </tr>\n",
       "    <tr>\n",
       "      <td>135427</td>\n",
       "      <td>2020-05-11</td>\n",
       "      <td>Yakima</td>\n",
       "      <td>Washington</td>\n",
       "      <td>53077.0</td>\n",
       "      <td>1966</td>\n",
       "      <td>63</td>\n",
       "    </tr>\n",
       "  </tbody>\n",
       "</table>\n",
       "<p>100 rows × 6 columns</p>\n",
       "</div>"
      ],
      "text/plain": [
       "              date       county       state     fips  cases  deaths\n",
       "134571  2020-05-11       Gallia        Ohio  39053.0      6       1\n",
       "134572  2020-05-11       Geauga        Ohio  39055.0    191      19\n",
       "134573  2020-05-11       Greene        Ohio  39057.0     63       5\n",
       "134574  2020-05-11     Guernsey        Ohio  39059.0     21       0\n",
       "134575  2020-05-11     Hamilton        Ohio  39061.0   1823     101\n",
       "...            ...          ...         ...      ...    ...     ...\n",
       "135423  2020-05-11    Wahkiakum  Washington  53069.0      4       0\n",
       "135424  2020-05-11  Walla Walla  Washington  53071.0    104       2\n",
       "135425  2020-05-11      Whatcom  Washington  53073.0    338      34\n",
       "135426  2020-05-11      Whitman  Washington  53075.0     16       0\n",
       "135427  2020-05-11       Yakima  Washington  53077.0   1966      63\n",
       "\n",
       "[100 rows x 6 columns]"
      ]
     },
     "execution_count": 55,
     "metadata": {},
     "output_type": "execute_result"
    }
   ],
   "source": [
    "df4.tail(100)"
   ]
  },
  {
   "cell_type": "code",
   "execution_count": null,
   "metadata": {},
   "outputs": [],
   "source": [
    "#the below graph is for deaths and cases of covid-19"
   ]
  },
  {
   "cell_type": "code",
   "execution_count": 57,
   "metadata": {},
   "outputs": [
    {
     "data": {
      "image/png": "[encoded data removed]",
      "text/plain": [
       "<Figure size 1080x360 with 1 Axes>"
      ]
     },
     "metadata": {
      "needs_background": "light"
     },
     "output_type": "display_data"
    }
   ],
   "source": [
    "\n",
    "r_data = df4.groupby([\"state\"])[\"cases\", \"deaths\"].sum().reset_index()\n",
    "plt.figure(figsize=(15, 5))\n",
    "plt.plot(r_data['state'], r_data['deaths'],color='red')\n",
    "plt.plot(r_data['state'], r_data['cases'],color='green')\n",
    "plt.title('Death and cases for selected states')\n",
    "plt.show()"
   ]
  },
  {
   "cell_type": "code",
   "execution_count": 60,
   "metadata": {},
   "outputs": [
    {
     "data": {
      "text/html": [
       "<div>\n",
       "<style scoped>\n",
       "    .dataframe tbody tr th:only-of-type {\n",
       "        vertical-align: middle;\n",
       "    }\n",
       "\n",
       "    .dataframe tbody tr th {\n",
       "        vertical-align: top;\n",
       "    }\n",
       "\n",
       "    .dataframe thead th {\n",
       "        text-align: right;\n",
       "    }\n",
       "</style>\n",
       "<table border=\"1\" class=\"dataframe\">\n",
       "  <thead>\n",
       "    <tr style=\"text-align: right;\">\n",
       "      <th></th>\n",
       "      <th>state</th>\n",
       "      <th>cases</th>\n",
       "      <th>deaths</th>\n",
       "    </tr>\n",
       "  </thead>\n",
       "  <tbody>\n",
       "    <tr>\n",
       "      <td>0</td>\n",
       "      <td>Florida</td>\n",
       "      <td>1124472</td>\n",
       "      <td>36845</td>\n",
       "    </tr>\n",
       "    <tr>\n",
       "      <td>1</td>\n",
       "      <td>Maryland</td>\n",
       "      <td>649595</td>\n",
       "      <td>27145</td>\n",
       "    </tr>\n",
       "    <tr>\n",
       "      <td>2</td>\n",
       "      <td>New York</td>\n",
       "      <td>4599625</td>\n",
       "      <td>172283</td>\n",
       "    </tr>\n",
       "    <tr>\n",
       "      <td>3</td>\n",
       "      <td>Ohio</td>\n",
       "      <td>538006</td>\n",
       "      <td>25819</td>\n",
       "    </tr>\n",
       "    <tr>\n",
       "      <td>4</td>\n",
       "      <td>Washington</td>\n",
       "      <td>547214</td>\n",
       "      <td>29047</td>\n",
       "    </tr>\n",
       "  </tbody>\n",
       "</table>\n",
       "</div>"
      ],
      "text/plain": [
       "        state    cases  deaths\n",
       "0     Florida  1124472   36845\n",
       "1    Maryland   649595   27145\n",
       "2    New York  4599625  172283\n",
       "3        Ohio   538006   25819\n",
       "4  Washington   547214   29047"
      ]
     },
     "execution_count": 60,
     "metadata": {},
     "output_type": "execute_result"
    }
   ],
   "source": [
    "r_data.head()"
   ]
  },
  {
   "cell_type": "code",
   "execution_count": null,
   "metadata": {},
   "outputs": [],
   "source": [
    "#state vs deaths bar graph"
   ]
  },
  {
   "cell_type": "code",
   "execution_count": 69,
   "metadata": {},
   "outputs": [
    {
     "data": {
      "text/plain": [
       "<Figure size 720x720 with 0 Axes>"
      ]
     },
     "metadata": {},
     "output_type": "display_data"
    },
    {
     "data": {
      "image/png": "[encoded data removed]",
      "text/plain": [
       "<Figure size 720x720 with 1 Axes>"
      ]
     },
     "metadata": {
      "needs_background": "light"
     },
     "output_type": "display_data"
    }
   ],
   "source": [
    "import numpy as np\n",
    "objects = (r_data['state'])\n",
    "y_pos = np.arange(len(objects))\n",
    "plt.figure(figsize=(10,10))\n",
    "\n",
    "\n",
    "performance = r_data['deaths']\n",
    "plt.figure(figsize=(10,10))\n",
    "plt.barh(y_pos, performance,align='center', alpha=0.5)\n",
    "plt.yticks(y_pos, objects)\n",
    "plt.xlabel('Deaths')\n",
    "plt.ylabel('State')\n",
    "plt.title('STATE VS DEATHS')\n",
    "\n",
    "plt.show()"
   ]
  },
  {
   "cell_type": "code",
   "execution_count": 71,
   "metadata": {},
   "outputs": [
    {
     "data": {
      "text/plain": [
       "<Figure size 720x720 with 0 Axes>"
      ]
     },
     "metadata": {},
     "output_type": "display_data"
    },
    {
     "data": {
      "image/png": "[encoded data removed]",
      "text/plain": [
       "<Figure size 720x720 with 1 Axes>"
      ]
     },
     "metadata": {
      "needs_background": "light"
     },
     "output_type": "display_data"
    }
   ],
   "source": [
    "import numpy as np\n",
    "objects = (r_data['state'])\n",
    "y_pos = np.arange(len(objects))\n",
    "plt.figure(figsize=(10,10))\n",
    "\n",
    "\n",
    "performance = r_data['cases']\n",
    "plt.figure(figsize=(10,10))\n",
    "plt.barh(y_pos, performance,align='center', alpha=0.5)\n",
    "plt.yticks(y_pos, objects)\n",
    "plt.xlabel('STATE')\n",
    "plt.ylabel('cases')\n",
    "plt.title('STATE VS CASES')\n",
    "\n",
    "plt.show()"
   ]
  },
  {
   "cell_type": "code",
   "execution_count": 77,
   "metadata": {},
   "outputs": [
    {
     "data": {
      "image/png": "[encoded data removed]",
      "text/plain": [
       "<Figure size 720x720 with 1 Axes>"
      ]
     },
     "metadata": {
      "needs_background": "light"
     },
     "output_type": "display_data"
    }
   ],
   "source": [
    "objects = (r_data['state'])\n",
    "y_pos = np.arange(len(objects))\n",
    "width = 2\n",
    "\n",
    "deaths = (r_data['deaths'])\n",
    "cases = (r_data['cases'])\n",
    "\n",
    "\n",
    "\n",
    "plt.figure(figsize=(10,10))\n",
    "\n",
    "plt.barh(y_pos, cases, align='center', label='cases')\n",
    "plt.barh(y_pos , deaths, align='center', color = 'red' , label='deaths')\n",
    "\n",
    "\n",
    "\n",
    "\n",
    "plt.yticks(y_pos, objects)\n",
    "plt.xlabel('Rate')\n",
    "plt.title('FIGURE 28. Child Mortality vs Maternal Mortality')\n",
    "\n",
    "plt.legend()\n",
    "\n",
    "plt.show()"
   ]
  },
  {
   "cell_type": "code",
   "execution_count": null,
   "metadata": {},
   "outputs": [],
   "source": [
    "#from the above graph we can tell that the number of cases in the state of New York is more \n",
    "#and the deaths are more in New York as compared to other states \n",
    "#we can see that the number of cases are more and the deaths are comparativetly less as compares to \n",
    "#number of cases "
   ]
  }
 ],
 "metadata": {
  "kernelspec": {
   "display_name": "Python 3",
   "language": "python",
   "name": "python3"
  },
  "language_info": {
   "codemirror_mode": {
    "name": "ipython",
    "version": 3
   },
   "file_extension": ".py",
   "mimetype": "text/x-python",
   "name": "python",
   "nbconvert_exporter": "python",
   "pygments_lexer": "ipython3",
   "version": "3.7.4"
  }
 },
 "nbformat": 4,
 "nbformat_minor": 2
}
