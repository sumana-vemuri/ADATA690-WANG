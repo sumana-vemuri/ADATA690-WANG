{
 "cells": [
  {
   "cell_type": "markdown",
   "metadata": {},
   "source": [
    "Deliverable #2 - Descriptive Statistics\n"
   ]
  },
  {
   "cell_type": "markdown",
   "metadata": {},
   "source": [
    "The interim deliverables allow the instructor to review your work and provide feedback. \n",
    "\n",
    "You will perform the loading, examination, and  processing of the data using Pandas.\n",
    "\n",
    "You will perform descriptive analytics. Display number of observations (rows), variables (columns),  summary statistics.\n",
    "\n",
    "You may produce some simple plots. This will help you get a feel of your data and inform your next step of analysis.\n",
    "\n",
    "You should submit a Jupyter Notebook with documentations, comments, code, and output.\n",
    "\n",
    "The project proposal will no longer be needed. Its content should be included in the Jupyter notebook."
   ]
  },
  {
   "cell_type": "code",
   "execution_count": null,
   "metadata": {},
   "outputs": [],
   "source": [
    "#Importing all the necessary libraries\n"
   ]
  },
  {
   "cell_type": "code",
   "execution_count": 4,
   "metadata": {},
   "outputs": [],
   "source": [
    "import pandas as pd\n",
    "import matplotlib.pyplot as plt\n",
    "import pylab as pl\n"
   ]
  },
  {
   "cell_type": "code",
   "execution_count": null,
   "metadata": {},
   "outputs": [],
   "source": [
    "#Reading the csv file for analysis \n",
    "#citation : \n",
    "#data set from the site https://catalog.data.gov/dataset/traffic-data\n",
    "#Monroe county crash data_2003 to 2015\n",
    "##https://stackoverflow.com/questions/18766955/how-to-write-utf-8-in-a-csv-file\n",
    "#https://stackoverflow.com/tags/character-encoding/new"
   ]
  },
  {
   "cell_type": "code",
   "execution_count": null,
   "metadata": {},
   "outputs": [],
   "source": [
    "dataframe=pd.read_csv(\"monroe-county-crash-data2003-to-2015.csv\",encoding=\"ISO-8859-1\")"
   ]
  },
  {
   "cell_type": "code",
   "execution_count": null,
   "metadata": {},
   "outputs": [],
   "source": [
    "#Displaying number of columns and rows"
   ]
  },
  {
   "cell_type": "code",
   "execution_count": 9,
   "metadata": {},
   "outputs": [
    {
     "name": "stdout",
     "output_type": "stream",
     "text": [
      "Total number of rows in the data frame are:  53943\n",
      "Total number of columns 12\n"
     ]
    },
    {
     "data": {
      "text/plain": [
       "(53943, 12)"
      ]
     },
     "execution_count": 9,
     "metadata": {},
     "output_type": "execute_result"
    }
   ],
   "source": [
    "\n",
    "#printing the total number of rows in the dataframe \n",
    "total_rows = len(dataframe.index)\n",
    "print(\"Total number of rows in the data frame are: \",total_rows)\n",
    "\n",
    "#printing the total number of columns in the dataframe \n",
    "total_columns=len(dataframe.columns)\n",
    "print(\"Total number of columns\", total_columns)\n",
    "\n",
    "dataframe.shape"
   ]
  },
  {
   "cell_type": "code",
   "execution_count": null,
   "metadata": {},
   "outputs": [],
   "source": [
    "#printing the first 5 rows of the dataframe "
   ]
  },
  {
   "cell_type": "code",
   "execution_count": 6,
   "metadata": {},
   "outputs": [
    {
     "data": {
      "text/html": [
       "<div>\n",
       "<style scoped>\n",
       "    .dataframe tbody tr th:only-of-type {\n",
       "        vertical-align: middle;\n",
       "    }\n",
       "\n",
       "    .dataframe tbody tr th {\n",
       "        vertical-align: top;\n",
       "    }\n",
       "\n",
       "    .dataframe thead th {\n",
       "        text-align: right;\n",
       "    }\n",
       "</style>\n",
       "<table border=\"1\" class=\"dataframe\">\n",
       "  <thead>\n",
       "    <tr style=\"text-align: right;\">\n",
       "      <th></th>\n",
       "      <th>Master Record Number</th>\n",
       "      <th>Year</th>\n",
       "      <th>Month</th>\n",
       "      <th>Day</th>\n",
       "      <th>Weekend?</th>\n",
       "      <th>Hour</th>\n",
       "      <th>Collision Type</th>\n",
       "      <th>Injury Type</th>\n",
       "      <th>Primary Factor</th>\n",
       "      <th>Reported_Location</th>\n",
       "      <th>Latitude</th>\n",
       "      <th>Longitude</th>\n",
       "    </tr>\n",
       "  </thead>\n",
       "  <tbody>\n",
       "    <tr>\n",
       "      <td>0</td>\n",
       "      <td>902363382</td>\n",
       "      <td>2015</td>\n",
       "      <td>1</td>\n",
       "      <td>5</td>\n",
       "      <td>Weekday</td>\n",
       "      <td>0.0</td>\n",
       "      <td>2-Car</td>\n",
       "      <td>No injury/unknown</td>\n",
       "      <td>OTHER (DRIVER) - EXPLAIN IN NARRATIVE</td>\n",
       "      <td>1ST &amp; FESS</td>\n",
       "      <td>39.159207</td>\n",
       "      <td>-86.525874</td>\n",
       "    </tr>\n",
       "    <tr>\n",
       "      <td>1</td>\n",
       "      <td>902364268</td>\n",
       "      <td>2015</td>\n",
       "      <td>1</td>\n",
       "      <td>6</td>\n",
       "      <td>Weekday</td>\n",
       "      <td>1500.0</td>\n",
       "      <td>2-Car</td>\n",
       "      <td>No injury/unknown</td>\n",
       "      <td>FOLLOWING TOO CLOSELY</td>\n",
       "      <td>2ND &amp; COLLEGE</td>\n",
       "      <td>39.161440</td>\n",
       "      <td>-86.534848</td>\n",
       "    </tr>\n",
       "    <tr>\n",
       "      <td>2</td>\n",
       "      <td>902364412</td>\n",
       "      <td>2015</td>\n",
       "      <td>1</td>\n",
       "      <td>6</td>\n",
       "      <td>Weekend</td>\n",
       "      <td>2300.0</td>\n",
       "      <td>2-Car</td>\n",
       "      <td>Non-incapacitating</td>\n",
       "      <td>DISREGARD SIGNAL/REG SIGN</td>\n",
       "      <td>BASSWOOD &amp; BLOOMFIELD</td>\n",
       "      <td>39.149780</td>\n",
       "      <td>-86.568890</td>\n",
       "    </tr>\n",
       "    <tr>\n",
       "      <td>3</td>\n",
       "      <td>902364551</td>\n",
       "      <td>2015</td>\n",
       "      <td>1</td>\n",
       "      <td>7</td>\n",
       "      <td>Weekend</td>\n",
       "      <td>900.0</td>\n",
       "      <td>2-Car</td>\n",
       "      <td>Non-incapacitating</td>\n",
       "      <td>FAILURE TO YIELD RIGHT OF WAY</td>\n",
       "      <td>GATES &amp; JACOBS</td>\n",
       "      <td>39.165655</td>\n",
       "      <td>-86.575956</td>\n",
       "    </tr>\n",
       "    <tr>\n",
       "      <td>4</td>\n",
       "      <td>902364615</td>\n",
       "      <td>2015</td>\n",
       "      <td>1</td>\n",
       "      <td>7</td>\n",
       "      <td>Weekend</td>\n",
       "      <td>1100.0</td>\n",
       "      <td>2-Car</td>\n",
       "      <td>No injury/unknown</td>\n",
       "      <td>FAILURE TO YIELD RIGHT OF WAY</td>\n",
       "      <td>W 3RD</td>\n",
       "      <td>39.164848</td>\n",
       "      <td>-86.579625</td>\n",
       "    </tr>\n",
       "  </tbody>\n",
       "</table>\n",
       "</div>"
      ],
      "text/plain": [
       "   Master Record Number  Year  Month  Day Weekend?    Hour Collision Type  \\\n",
       "0             902363382  2015      1    5  Weekday     0.0          2-Car   \n",
       "1             902364268  2015      1    6  Weekday  1500.0          2-Car   \n",
       "2             902364412  2015      1    6  Weekend  2300.0          2-Car   \n",
       "3             902364551  2015      1    7  Weekend   900.0          2-Car   \n",
       "4             902364615  2015      1    7  Weekend  1100.0          2-Car   \n",
       "\n",
       "          Injury Type                         Primary Factor  \\\n",
       "0   No injury/unknown  OTHER (DRIVER) - EXPLAIN IN NARRATIVE   \n",
       "1   No injury/unknown                  FOLLOWING TOO CLOSELY   \n",
       "2  Non-incapacitating              DISREGARD SIGNAL/REG SIGN   \n",
       "3  Non-incapacitating          FAILURE TO YIELD RIGHT OF WAY   \n",
       "4   No injury/unknown          FAILURE TO YIELD RIGHT OF WAY   \n",
       "\n",
       "       Reported_Location   Latitude  Longitude  \n",
       "0             1ST & FESS  39.159207 -86.525874  \n",
       "1          2ND & COLLEGE  39.161440 -86.534848  \n",
       "2  BASSWOOD & BLOOMFIELD  39.149780 -86.568890  \n",
       "3         GATES & JACOBS  39.165655 -86.575956  \n",
       "4                  W 3RD  39.164848 -86.579625  "
      ]
     },
     "execution_count": 6,
     "metadata": {},
     "output_type": "execute_result"
    }
   ],
   "source": [
    "dataframe.head()"
   ]
  },
  {
   "cell_type": "code",
   "execution_count": null,
   "metadata": {},
   "outputs": [],
   "source": [
    "#printing the last 5 rows in the data set"
   ]
  },
  {
   "cell_type": "code",
   "execution_count": 7,
   "metadata": {},
   "outputs": [
    {
     "data": {
      "text/html": [
       "<div>\n",
       "<style scoped>\n",
       "    .dataframe tbody tr th:only-of-type {\n",
       "        vertical-align: middle;\n",
       "    }\n",
       "\n",
       "    .dataframe tbody tr th {\n",
       "        vertical-align: top;\n",
       "    }\n",
       "\n",
       "    .dataframe thead th {\n",
       "        text-align: right;\n",
       "    }\n",
       "</style>\n",
       "<table border=\"1\" class=\"dataframe\">\n",
       "  <thead>\n",
       "    <tr style=\"text-align: right;\">\n",
       "      <th></th>\n",
       "      <th>Master Record Number</th>\n",
       "      <th>Year</th>\n",
       "      <th>Month</th>\n",
       "      <th>Day</th>\n",
       "      <th>Weekend?</th>\n",
       "      <th>Hour</th>\n",
       "      <th>Collision Type</th>\n",
       "      <th>Injury Type</th>\n",
       "      <th>Primary Factor</th>\n",
       "      <th>Reported_Location</th>\n",
       "      <th>Latitude</th>\n",
       "      <th>Longitude</th>\n",
       "    </tr>\n",
       "  </thead>\n",
       "  <tbody>\n",
       "    <tr>\n",
       "      <td>53938</td>\n",
       "      <td>900084526</td>\n",
       "      <td>2003</td>\n",
       "      <td>10</td>\n",
       "      <td>6</td>\n",
       "      <td>Weekday</td>\n",
       "      <td>1700.0</td>\n",
       "      <td>2-Car</td>\n",
       "      <td>No injury/unknown</td>\n",
       "      <td>IMPROPER LANE USAGE</td>\n",
       "      <td>DUNN &amp; WHITE LOT WEST</td>\n",
       "      <td>0.0</td>\n",
       "      <td>0.0</td>\n",
       "    </tr>\n",
       "    <tr>\n",
       "      <td>53939</td>\n",
       "      <td>900089213</td>\n",
       "      <td>2003</td>\n",
       "      <td>11</td>\n",
       "      <td>3</td>\n",
       "      <td>Weekday</td>\n",
       "      <td>800.0</td>\n",
       "      <td>1-Car</td>\n",
       "      <td>No injury/unknown</td>\n",
       "      <td>UNSAFE SPEED</td>\n",
       "      <td>RED OAK &amp; SR446</td>\n",
       "      <td>0.0</td>\n",
       "      <td>0.0</td>\n",
       "    </tr>\n",
       "    <tr>\n",
       "      <td>53940</td>\n",
       "      <td>900095322</td>\n",
       "      <td>2003</td>\n",
       "      <td>12</td>\n",
       "      <td>5</td>\n",
       "      <td>Weekday</td>\n",
       "      <td>1200.0</td>\n",
       "      <td>2-Car</td>\n",
       "      <td>No injury/unknown</td>\n",
       "      <td>BRAKE FAILURE OR DEFECTIVE</td>\n",
       "      <td>2ND ST &amp; WALNUT</td>\n",
       "      <td>0.0</td>\n",
       "      <td>0.0</td>\n",
       "    </tr>\n",
       "    <tr>\n",
       "      <td>53941</td>\n",
       "      <td>900099922</td>\n",
       "      <td>2003</td>\n",
       "      <td>12</td>\n",
       "      <td>1</td>\n",
       "      <td>Weekend</td>\n",
       "      <td>700.0</td>\n",
       "      <td>2-Car</td>\n",
       "      <td>No injury/unknown</td>\n",
       "      <td>UNSAFE BACKING</td>\n",
       "      <td>NINETH &amp; NORTH</td>\n",
       "      <td>0.0</td>\n",
       "      <td>0.0</td>\n",
       "    </tr>\n",
       "    <tr>\n",
       "      <td>53942</td>\n",
       "      <td>900109291</td>\n",
       "      <td>2003</td>\n",
       "      <td>12</td>\n",
       "      <td>7</td>\n",
       "      <td>Weekend</td>\n",
       "      <td>1700.0</td>\n",
       "      <td>2-Car</td>\n",
       "      <td>Non-incapacitating</td>\n",
       "      <td>OTHER (DRIVER) - EXPLAIN IN NARRATIVE</td>\n",
       "      <td>MONROW &amp; THIRD ST</td>\n",
       "      <td>0.0</td>\n",
       "      <td>0.0</td>\n",
       "    </tr>\n",
       "  </tbody>\n",
       "</table>\n",
       "</div>"
      ],
      "text/plain": [
       "       Master Record Number  Year  Month  Day Weekend?    Hour Collision Type  \\\n",
       "53938             900084526  2003     10    6  Weekday  1700.0          2-Car   \n",
       "53939             900089213  2003     11    3  Weekday   800.0          1-Car   \n",
       "53940             900095322  2003     12    5  Weekday  1200.0          2-Car   \n",
       "53941             900099922  2003     12    1  Weekend   700.0          2-Car   \n",
       "53942             900109291  2003     12    7  Weekend  1700.0          2-Car   \n",
       "\n",
       "              Injury Type                         Primary Factor  \\\n",
       "53938   No injury/unknown                    IMPROPER LANE USAGE   \n",
       "53939   No injury/unknown                           UNSAFE SPEED   \n",
       "53940   No injury/unknown             BRAKE FAILURE OR DEFECTIVE   \n",
       "53941   No injury/unknown                         UNSAFE BACKING   \n",
       "53942  Non-incapacitating  OTHER (DRIVER) - EXPLAIN IN NARRATIVE   \n",
       "\n",
       "           Reported_Location  Latitude  Longitude  \n",
       "53938  DUNN & WHITE LOT WEST       0.0        0.0  \n",
       "53939        RED OAK & SR446       0.0        0.0  \n",
       "53940        2ND ST & WALNUT       0.0        0.0  \n",
       "53941         NINETH & NORTH       0.0        0.0  \n",
       "53942      MONROW & THIRD ST       0.0        0.0  "
      ]
     },
     "execution_count": 7,
     "metadata": {},
     "output_type": "execute_result"
    }
   ],
   "source": [
    "dataframe.tail()"
   ]
  },
  {
   "cell_type": "code",
   "execution_count": 10,
   "metadata": {},
   "outputs": [
    {
     "data": {
      "text/plain": [
       "Index(['Master Record Number', 'Year', 'Month', 'Day', 'Weekend?', 'Hour',\n",
       "       'Collision Type', 'Injury Type', 'Primary Factor', 'Reported_Location',\n",
       "       'Latitude', 'Longitude'],\n",
       "      dtype='object')"
      ]
     },
     "execution_count": 10,
     "metadata": {},
     "output_type": "execute_result"
    }
   ],
   "source": [
    "#printing all the columns in the dataframe \n",
    "\n",
    "dataframe.columns"
   ]
  },
  {
   "cell_type": "code",
   "execution_count": null,
   "metadata": {},
   "outputs": [],
   "source": [
    "#summary statistics of the data set"
   ]
  },
  {
   "cell_type": "code",
   "execution_count": 21,
   "metadata": {},
   "outputs": [
    {
     "data": {
      "text/html": [
       "<div>\n",
       "<style scoped>\n",
       "    .dataframe tbody tr th:only-of-type {\n",
       "        vertical-align: middle;\n",
       "    }\n",
       "\n",
       "    .dataframe tbody tr th {\n",
       "        vertical-align: top;\n",
       "    }\n",
       "\n",
       "    .dataframe thead th {\n",
       "        text-align: right;\n",
       "    }\n",
       "</style>\n",
       "<table border=\"1\" class=\"dataframe\">\n",
       "  <thead>\n",
       "    <tr style=\"text-align: right;\">\n",
       "      <th></th>\n",
       "      <th>count</th>\n",
       "      <th>mean</th>\n",
       "      <th>std</th>\n",
       "      <th>min</th>\n",
       "      <th>25%</th>\n",
       "      <th>50%</th>\n",
       "      <th>75%</th>\n",
       "      <th>max</th>\n",
       "    </tr>\n",
       "  </thead>\n",
       "  <tbody>\n",
       "    <tr>\n",
       "      <td>Master Record Number</td>\n",
       "      <td>53943.0</td>\n",
       "      <td>6.748119e+08</td>\n",
       "      <td>3.907563e+08</td>\n",
       "      <td>14705.000000</td>\n",
       "      <td>1.991074e+06</td>\n",
       "      <td>9.011241e+08</td>\n",
       "      <td>9.019039e+08</td>\n",
       "      <td>9.026394e+08</td>\n",
       "    </tr>\n",
       "    <tr>\n",
       "      <td>Year</td>\n",
       "      <td>53943.0</td>\n",
       "      <td>2.008968e+03</td>\n",
       "      <td>3.789760e+00</td>\n",
       "      <td>2003.000000</td>\n",
       "      <td>2.006000e+03</td>\n",
       "      <td>2.009000e+03</td>\n",
       "      <td>2.012000e+03</td>\n",
       "      <td>2.015000e+03</td>\n",
       "    </tr>\n",
       "    <tr>\n",
       "      <td>Month</td>\n",
       "      <td>53943.0</td>\n",
       "      <td>6.662162e+00</td>\n",
       "      <td>3.514630e+00</td>\n",
       "      <td>1.000000</td>\n",
       "      <td>4.000000e+00</td>\n",
       "      <td>7.000000e+00</td>\n",
       "      <td>1.000000e+01</td>\n",
       "      <td>1.200000e+01</td>\n",
       "    </tr>\n",
       "    <tr>\n",
       "      <td>Day</td>\n",
       "      <td>53943.0</td>\n",
       "      <td>4.196912e+00</td>\n",
       "      <td>1.909440e+00</td>\n",
       "      <td>1.000000</td>\n",
       "      <td>3.000000e+00</td>\n",
       "      <td>4.000000e+00</td>\n",
       "      <td>6.000000e+00</td>\n",
       "      <td>7.000000e+00</td>\n",
       "    </tr>\n",
       "    <tr>\n",
       "      <td>Hour</td>\n",
       "      <td>53718.0</td>\n",
       "      <td>1.347265e+03</td>\n",
       "      <td>5.316540e+02</td>\n",
       "      <td>0.000000</td>\n",
       "      <td>1.000000e+03</td>\n",
       "      <td>1.400000e+03</td>\n",
       "      <td>1.700000e+03</td>\n",
       "      <td>2.300000e+03</td>\n",
       "    </tr>\n",
       "    <tr>\n",
       "      <td>Latitude</td>\n",
       "      <td>53913.0</td>\n",
       "      <td>3.558211e+01</td>\n",
       "      <td>1.128988e+01</td>\n",
       "      <td>0.000000</td>\n",
       "      <td>3.914205e+01</td>\n",
       "      <td>3.916443e+01</td>\n",
       "      <td>3.917334e+01</td>\n",
       "      <td>4.122867e+01</td>\n",
       "    </tr>\n",
       "    <tr>\n",
       "      <td>Longitude</td>\n",
       "      <td>53913.0</td>\n",
       "      <td>-7.861922e+01</td>\n",
       "      <td>2.495759e+01</td>\n",
       "      <td>-88.959213</td>\n",
       "      <td>-8.655152e+01</td>\n",
       "      <td>-8.653099e+01</td>\n",
       "      <td>-8.650829e+01</td>\n",
       "      <td>8.659636e+01</td>\n",
       "    </tr>\n",
       "  </tbody>\n",
       "</table>\n",
       "</div>"
      ],
      "text/plain": [
       "                        count          mean           std           min  \\\n",
       "Master Record Number  53943.0  6.748119e+08  3.907563e+08  14705.000000   \n",
       "Year                  53943.0  2.008968e+03  3.789760e+00   2003.000000   \n",
       "Month                 53943.0  6.662162e+00  3.514630e+00      1.000000   \n",
       "Day                   53943.0  4.196912e+00  1.909440e+00      1.000000   \n",
       "Hour                  53718.0  1.347265e+03  5.316540e+02      0.000000   \n",
       "Latitude              53913.0  3.558211e+01  1.128988e+01      0.000000   \n",
       "Longitude             53913.0 -7.861922e+01  2.495759e+01    -88.959213   \n",
       "\n",
       "                               25%           50%           75%           max  \n",
       "Master Record Number  1.991074e+06  9.011241e+08  9.019039e+08  9.026394e+08  \n",
       "Year                  2.006000e+03  2.009000e+03  2.012000e+03  2.015000e+03  \n",
       "Month                 4.000000e+00  7.000000e+00  1.000000e+01  1.200000e+01  \n",
       "Day                   3.000000e+00  4.000000e+00  6.000000e+00  7.000000e+00  \n",
       "Hour                  1.000000e+03  1.400000e+03  1.700000e+03  2.300000e+03  \n",
       "Latitude              3.914205e+01  3.916443e+01  3.917334e+01  4.122867e+01  \n",
       "Longitude            -8.655152e+01 -8.653099e+01 -8.650829e+01  8.659636e+01  "
      ]
     },
     "execution_count": 21,
     "metadata": {},
     "output_type": "execute_result"
    }
   ],
   "source": [
    "#summary statistics to find the count, mean, standard deviation,maximum, minimum\n",
    "dataframe.describe().T"
   ]
  },
  {
   "cell_type": "code",
   "execution_count": 26,
   "metadata": {},
   "outputs": [
    {
     "data": {
      "text/plain": [
       "count    53943.000000\n",
       "mean      2008.968059\n",
       "std          3.789760\n",
       "min       2003.000000\n",
       "25%       2006.000000\n",
       "50%       2009.000000\n",
       "75%       2012.000000\n",
       "max       2015.000000\n",
       "Name: Year, dtype: float64"
      ]
     },
     "execution_count": 26,
     "metadata": {},
     "output_type": "execute_result"
    }
   ],
   "source": [
    "#finding the summary statistics of each column \n",
    "#this is for the column year\n",
    "dataframe['Year'].describe()"
   ]
  },
  {
   "cell_type": "code",
   "execution_count": 27,
   "metadata": {},
   "outputs": [
    {
     "data": {
      "text/plain": [
       "count       53875\n",
       "unique          2\n",
       "top       Weekday\n",
       "freq        40604\n",
       "Name: Weekend?, dtype: object"
      ]
     },
     "execution_count": 27,
     "metadata": {},
     "output_type": "execute_result"
    }
   ],
   "source": [
    "dataframe['Weekend?'].describe()\n",
    "#Weekend? column from the data frame \n",
    "#the below data shows that there are 2 unique values.. i.e., weekend and weekday\n",
    "#the top count is for weekday"
   ]
  },
  {
   "cell_type": "code",
   "execution_count": 28,
   "metadata": {},
   "outputs": [
    {
     "data": {
      "text/plain": [
       "count     53937\n",
       "unique        7\n",
       "top       2-Car\n",
       "freq      37606\n",
       "Name: Collision Type, dtype: object"
      ]
     },
     "execution_count": 28,
     "metadata": {},
     "output_type": "execute_result"
    }
   ],
   "source": [
    "dataframe['Collision Type'].describe()\n",
    "\n",
    "#the below summary statistics is for the column collision type\n",
    "#this column describes the various collision types by which the accidents occured\n",
    "#from the summary statistics we can see that there are 7 different types of collisions that occured\n",
    "#the top accidents that occured are due to 2-car collisions"
   ]
  },
  {
   "cell_type": "code",
   "execution_count": 29,
   "metadata": {},
   "outputs": [
    {
     "data": {
      "text/plain": [
       "count                 53943\n",
       "unique                    4\n",
       "top       No injury/unknown\n",
       "freq                  41603\n",
       "Name: Injury Type, dtype: object"
      ]
     },
     "execution_count": 29,
     "metadata": {},
     "output_type": "execute_result"
    }
   ],
   "source": [
    "dataframe['Injury Type'].describe()\n",
    "\n",
    "#from the below summary statistics of column injury type we can draw the below conclusions \n",
    "#there are 4 unique injury types\n",
    "#and the top injury type is no injury or unknown as per the data set"
   ]
  },
  {
   "cell_type": "code",
   "execution_count": null,
   "metadata": {},
   "outputs": [],
   "source": [
    "#finding the datatype of each column type"
   ]
  },
  {
   "cell_type": "code",
   "execution_count": 22,
   "metadata": {},
   "outputs": [
    {
     "data": {
      "text/plain": [
       "Master Record Number      int64\n",
       "Year                      int64\n",
       "Month                     int64\n",
       "Day                       int64\n",
       "Weekend?                 object\n",
       "Hour                    float64\n",
       "Collision Type           object\n",
       "Injury Type              object\n",
       "Primary Factor           object\n",
       "Reported_Location        object\n",
       "Latitude                float64\n",
       "Longitude               float64\n",
       "dtype: object"
      ]
     },
     "execution_count": 22,
     "metadata": {},
     "output_type": "execute_result"
    }
   ],
   "source": [
    "dataframe.dtypes"
   ]
  },
  {
   "cell_type": "code",
   "execution_count": 30,
   "metadata": {},
   "outputs": [
    {
     "data": {
      "text/plain": [
       "Master Record Number       0\n",
       "Year                       0\n",
       "Month                      0\n",
       "Day                        0\n",
       "Weekend?                  68\n",
       "Hour                     225\n",
       "Collision Type             6\n",
       "Injury Type                0\n",
       "Primary Factor          1121\n",
       "Reported_Location         35\n",
       "Latitude                  30\n",
       "Longitude                 30\n",
       "dtype: int64"
      ]
     },
     "execution_count": 30,
     "metadata": {},
     "output_type": "execute_result"
    }
   ],
   "source": [
    "#finding the number of null values for the columns \n",
    "#citation: https://stackoverflow.com/questions/41681693/pandas-isnull-sum-with-column-headers\n",
    "dataframe.isnull().sum()\n",
    "\n",
    "#the column Weekend?(68), Hour(225), Collision Type(6), Primary Factor(1121),\n",
    "#Reported_location(35),Latitude(30),Longitude(30) have null values\n",
    "#these values can be removed or cleaned before performing the actual visualization \n"
   ]
  },
  {
   "cell_type": "code",
   "execution_count": 11,
   "metadata": {},
   "outputs": [
    {
     "data": {
      "text/plain": [
       "<Figure size 2160x1440 with 0 Axes>"
      ]
     },
     "metadata": {},
     "output_type": "display_data"
    },
    {
     "data": {
      "image/png": "[encoded data removed]",
      "text/plain": [
       "<Figure size 432x288 with 1 Axes>"
      ]
     },
     "metadata": {
      "needs_background": "light"
     },
     "output_type": "display_data"
    }
   ],
   "source": [
    "#plotting a graph to check when the accidents occured for a particular year.\n",
    "#i.e., to check when the accidents occured more during the weekend or weekday \n",
    "#plotting a bar graph for the same \n",
    "\n",
    "plt.figure(figsize=(30,20))\n",
    "#pl.suptitle(\"your title\")\n",
    "dataframe.groupby(['Year', 'Weekend?'])\\\n",
    "      .Year.count().unstack().plot.bar(legend=True)\n",
    "plt.title('Weekend vs Year')\n",
    "plt.ylabel('Value')\n",
    "#plt.legend(loc='upper right')\n",
    "#legend outside the plot\n",
    "plt.legend(loc='upper left',title='Weekend', bbox_to_anchor=(1, 0.5))\n",
    "plt.show()"
   ]
  },
  {
   "cell_type": "code",
   "execution_count": null,
   "metadata": {},
   "outputs": [],
   "source": []
  }
 ],
 "metadata": {
  "kernelspec": {
   "display_name": "Python 3",
   "language": "python",
   "name": "python3"
  },
  "language_info": {
   "codemirror_mode": {
    "name": "ipython",
    "version": 3
   },
   "file_extension": ".py",
   "mimetype": "text/x-python",
   "name": "python",
   "nbconvert_exporter": "python",
   "pygments_lexer": "ipython3",
   "version": "3.7.4"
  }
 },
 "nbformat": 4,
 "nbformat_minor": 4
}
